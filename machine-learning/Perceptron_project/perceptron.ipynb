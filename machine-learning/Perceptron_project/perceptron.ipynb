{
 "cells": [
  {
   "cell_type": "code",
   "execution_count": 110,
   "metadata": {},
   "outputs": [],
   "source": [
    "import math\n",
    "import numpy as np\n",
    "from sklearn.datasets import load_iris\n",
    "from sklearn.model_selection import train_test_split\n",
    "from sklearn.metrics import accuracy_score"
   ]
  },
  {
   "cell_type": "code",
   "execution_count": null,
   "metadata": {},
   "outputs": [],
   "source": [
    "class Perceptron:\n",
    "    def __init__(self):\n",
    "        self.activation_function = lambda x: 1.5*math.tanh(x) + 1\n",
    "        self.weights = []\n",
    "        self.bias = 0\n",
    "\n",
    "    def forward(self, x: list[float]) -> float:\n",
    "        weighted_sum = np.dot(x, self.weights) + self.bias\n",
    "        return self.activation_function(weighted_sum)\n",
    "\n",
    "    def train(self, X_train: list[list[float]], y_expected: list[float], n: int, learning_rate: float):\n",
    "\n",
    "        number_of_inputs = len(X_train[0])\n",
    "        self.weights = np.random.randn(number_of_inputs)\n",
    "        self.bias = np.random.randn()\n",
    "        errors = []\n",
    "\n",
    "        for epoch in range(n):\n",
    "            total_error = 0\n",
    "            for i, x in enumerate(X_train):\n",
    "                y_predicted = self.forward(x)\n",
    "                error = y_expected[i] - y_predicted\n",
    "                correction = error * learning_rate\n",
    "\n",
    "                self.weights += correction * x\n",
    "                self.bias += correction\n",
    "                total_error += error**2  \n",
    "\n",
    "            errors.append(total_error / len(X_train))\n",
    "\n",
    "            if epoch % (n // 10) == 0: \n",
    "                print(f\"Epoch {epoch}, Error: {errors[-1]}\")\n",
    "\n",
    "        \n",
    "\n",
    "    def predict(self, X: list[list[float]]) -> list[float]:\n",
    "        return [self.forward(x) for x in X]"
   ]
  },
  {
   "cell_type": "code",
   "execution_count": 112,
   "metadata": {},
   "outputs": [],
   "source": [
    "iris = load_iris()\n",
    "X = iris.data\n",
    "y = iris.target"
   ]
  },
  {
   "cell_type": "code",
   "execution_count": 113,
   "metadata": {},
   "outputs": [],
   "source": [
    "X_train, X_test, y_train, y_test = train_test_split(X,y,test_size=0.3, random_state=42)"
   ]
  },
  {
   "cell_type": "code",
   "execution_count": 137,
   "metadata": {},
   "outputs": [
    {
     "name": "stdout",
     "output_type": "stream",
     "text": [
      "Epoch 0, Error: 0.6475709094648949\n",
      "Epoch 20, Error: 0.6476190476190476\n",
      "Epoch 40, Error: 0.6476190476190476\n",
      "Epoch 60, Error: 0.6476190476190476\n",
      "Epoch 80, Error: 0.6476190476190476\n",
      "Epoch 100, Error: 0.6476190476190476\n",
      "Epoch 120, Error: 0.6476190476190476\n",
      "Epoch 140, Error: 0.6476190476190476\n",
      "Epoch 160, Error: 0.6476190476190476\n",
      "Epoch 180, Error: 0.6476190476190476\n"
     ]
    }
   ],
   "source": [
    "model = Perceptron()\n",
    "model.train(X_train,y_train,200,0.02)"
   ]
  },
  {
   "cell_type": "code",
   "execution_count": 138,
   "metadata": {},
   "outputs": [
    {
     "name": "stdout",
     "output_type": "stream",
     "text": [
      "Accuracy of perceptron: 28.9%\n"
     ]
    }
   ],
   "source": [
    "y_predicted = model.predict(X_test)\n",
    "y_predicted = [math.ceil(y) for y in y_predicted]\n",
    "accuracy = accuracy_score(y_test,y_predicted)\n",
    "print(f\"Accuracy of perceptron: {round(accuracy,3)*100}%\")"
   ]
  }
 ],
 "metadata": {
  "kernelspec": {
   "display_name": "Python 3",
   "language": "python",
   "name": "python3"
  },
  "language_info": {
   "codemirror_mode": {
    "name": "ipython",
    "version": 3
   },
   "file_extension": ".py",
   "mimetype": "text/x-python",
   "name": "python",
   "nbconvert_exporter": "python",
   "pygments_lexer": "ipython3",
   "version": "3.12.3"
  }
 },
 "nbformat": 4,
 "nbformat_minor": 2
}
